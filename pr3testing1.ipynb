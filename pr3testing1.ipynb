{
 "cells": [
  {
   "cell_type": "code",
   "execution_count": 14,
   "metadata": {},
   "outputs": [],
   "source": [
    "import numpy as np\n",
    "import scipy as sp\n",
    "%matplotlib inline\n",
    "import matplotlib.pyplot as plt\n",
    "from collections import defaultdict\n",
    "from collections import Counter\n",
    "from scipy.sparse import csr_matrix"
   ]
  },
  {
   "cell_type": "code",
   "execution_count": 15,
   "metadata": {},
   "outputs": [],
   "source": [
    "ran_state = 12"
   ]
  },
  {
   "cell_type": "code",
   "execution_count": 16,
   "metadata": {},
   "outputs": [],
   "source": [
    "with open(\"train.dat\", \"r\") as fh:\n",
    "    lines = fh.readlines()  "
   ]
  },
  {
   "cell_type": "code",
   "execution_count": 17,
   "metadata": {},
   "outputs": [
    {
     "data": {
      "text/plain": [
       "8580"
      ]
     },
     "execution_count": 17,
     "metadata": {},
     "output_type": "execute_result"
    }
   ],
   "source": [
    "len(lines)"
   ]
  },
  {
   "cell_type": "code",
   "execution_count": 18,
   "metadata": {},
   "outputs": [],
   "source": [
    "docs = [l.split() for l in lines]"
   ]
  },
  {
   "cell_type": "code",
   "execution_count": 19,
   "metadata": {},
   "outputs": [
    {
     "data": {
      "text/plain": [
       "8580"
      ]
     },
     "execution_count": 19,
     "metadata": {},
     "output_type": "execute_result"
    }
   ],
   "source": [
    "len(docs)"
   ]
  },
  {
   "cell_type": "code",
   "execution_count": 20,
   "metadata": {},
   "outputs": [],
   "source": [
    "# #def csr_build(docs):\n",
    "#     #build csr w/ our input data, format: index, value, index value.... etc\n",
    "#     #should be even number of len for each line in doc(1 ind, 1 val)\n",
    "#     #index is feature number, value is count of appearance in doc\n",
    "#     #each line is a doc\n",
    "# nrows = len(docs)\n",
    "# nnz = 0\n",
    "# biggest_feature_id = 0\n",
    "# for d in docs:\n",
    "    \n",
    "#     #divide by two because not all are words/indices, half are values\n",
    "#     nnz += len(d) / 2\n",
    "#     #need to only look at values so skip 1 each time..\n",
    "#     for w in range(0, len(d), 2):\n",
    "#         if(biggest_feature_id < int(d[w])):\n",
    "#             biggest_feature_id = int(d[w])\n",
    "            \n",
    "# ncols = biggest_feature_id\n",
    "# #memory\n",
    "# ind = np.zeros(nnz, dtype = np.int)\n",
    "# val = np.zeros(nnz, dtype = np.double)\n",
    "# ptr = np.zeros(nrows+1, dtype = np.int)\n",
    "# n = 0\n",
    "# i = 0\n",
    "\n",
    "# for d in docs:\n",
    "#     for w in range(0, len(d), 2):\n",
    "#         ind[n] = int(d[w])\n",
    "#         val[n] = int(d[w+1])\n",
    "#         n += 1\n",
    "#     ptr[i+1] = n\n",
    "#     i += 1\n",
    "    \n",
    "# mat = csr_matrix((val, ind, ptr), shape=(nrows, ncols), dtype=np.double)\n",
    "    \n",
    "# ####-----#### \n",
    "# #i did this first implementation same as ACT-data3 but i cannot use TruncatedSVD feature decomposition\n",
    "# #on this csr_matrix because I have memory errors because the mapped ind values are extremely high\n",
    "# #thus on the next implementation/example shown I map in dict to track original id to unique general id created by myself\n",
    "# #which lowers the ind values by a TON for memory allocation in truncatedSVD\n",
    "# #print(mat.shape[1])\n",
    "# #print(mat.shape)\n",
    "# #list(ind)       \n",
    "# #len(ind)       \n",
    "        \n",
    "    "
   ]
  },
  {
   "cell_type": "code",
   "execution_count": 21,
   "metadata": {},
   "outputs": [],
   "source": [
    "#####DICT######\n",
    "#def csr_build(docs):\n",
    "    #build csr w/ our input data, format: index, value, index value.... etc\n",
    "    #should be even number of len for each line in doc(1 ind, 1 val)\n",
    "    #index is feature number, value is count of appearance in doc\n",
    "    #each line is a doc\n",
    "nrows = len(docs)\n",
    "nnz = 0\n",
    "biggest_feature_id = 0\n",
    "for d in docs:\n",
    "    \n",
    "    #divide by two because not all are words/indices, half are values\n",
    "    nnz += len(d) / 2\n",
    "    #need to only look at values so skip 1 each time..\n",
    "    for w in range(0, len(d), 2):\n",
    "        if(biggest_feature_id < int(d[w])):\n",
    "            biggest_feature_id = int(d[w])\n",
    "            \n",
    "ncols = biggest_feature_id\n",
    "#memory\n",
    "ind = np.zeros(nnz, dtype = np.int)\n",
    "val = np.zeros(nnz, dtype = np.double)\n",
    "ptr = np.zeros(nrows+1, dtype = np.long)\n",
    "ind_dict = dict()\n",
    "n = 0\n",
    "i = 0\n",
    "index = 0\n",
    "for d in docs:\n",
    "    for w in range(0, len(d), 2):\n",
    "        if not d[w] in ind_dict:\n",
    "            ind_dict[d[w]] = index\n",
    "            index+=1\n",
    "        ind[n] = ind_dict[d[w]]\n",
    "        val[n] = int(d[w+1])\n",
    "        n += 1\n",
    "    ptr[i+1] = n\n",
    "    i += 1\n",
    "    \n",
    "mat = csr_matrix((val, ind, ptr), dtype=np.long)\n",
    "# list(ind)\n",
    "# len(ind)"
   ]
  },
  {
   "cell_type": "code",
   "execution_count": 22,
   "metadata": {},
   "outputs": [
    {
     "data": {
      "text/plain": [
       "27673"
      ]
     },
     "execution_count": 22,
     "metadata": {},
     "output_type": "execute_result"
    }
   ],
   "source": [
    "mat.shape[1]"
   ]
  },
  {
   "cell_type": "code",
   "execution_count": 23,
   "metadata": {},
   "outputs": [
    {
     "data": {
      "text/plain": [
       "(8580, 27673)"
      ]
     },
     "execution_count": 23,
     "metadata": {},
     "output_type": "execute_result"
    }
   ],
   "source": [
    "mat.shape"
   ]
  },
  {
   "cell_type": "code",
   "execution_count": 24,
   "metadata": {},
   "outputs": [
    {
     "data": {
      "text/plain": [
       "27672"
      ]
     },
     "execution_count": 24,
     "metadata": {},
     "output_type": "execute_result"
    }
   ],
   "source": [
    "mat.shape[1]-1"
   ]
  },
  {
   "cell_type": "code",
   "execution_count": 25,
   "metadata": {},
   "outputs": [],
   "source": [
    "from sklearn.decomposition import TruncatedSVD"
   ]
  },
  {
   "cell_type": "code",
   "execution_count": 26,
   "metadata": {},
   "outputs": [],
   "source": [
    "#find n_components where explained variance still > 90%, use #features-1 to test\n",
    "#used n_iter=5(also default val) b/c it is higher for sparse matrices that may\n",
    "#have slowly decaying spectrum\n",
    "svd = TruncatedSVD(n_components=1500, n_iter=5, random_state=ran_state)\n",
    "svd_test_fit = svd.fit(mat) "
   ]
  },
  {
   "cell_type": "code",
   "execution_count": 27,
   "metadata": {
    "scrolled": true
   },
   "outputs": [
    {
     "data": {
      "image/png": "[encoded data removed]",
      "text/plain": [
       "<matplotlib.figure.Figure at 0xb5ba5f8>"
      ]
     },
     "metadata": {},
     "output_type": "display_data"
    }
   ],
   "source": [
    "#explained variance graph\n",
    "plt.plot(np.cumsum(svd.explained_variance_ratio_))\n",
    "plt.xlabel('n_components')\n",
    "plt.ylabel('cum variance')\n",
    "plt.show()"
   ]
  },
  {
   "cell_type": "code",
   "execution_count": 28,
   "metadata": {},
   "outputs": [
    {
     "name": "stdout",
     "output_type": "stream",
     "text": [
      "1292\n"
     ]
    }
   ],
   "source": [
    "#calculating n_compoenets required for explained variance of 90%\n",
    "#usually standard is 95% but we want to reduce dimensions a lot so it's easier\n",
    "#to create distance matrix..\n",
    "variance_ratios = svd.explained_variance_ratio_\n",
    "total_variance = 0.0;\n",
    "req_variance = 0.90\n",
    "n = 0\n",
    "#set correct n to 0 so i can check after it is was even set(0 return means not\n",
    "#found within the n_components provided, need to increase\n",
    "correct_n = 0\n",
    "for ratio in variance_ratios:\n",
    "    total_variance += ratio\n",
    "    n += 1\n",
    "    if total_variance >= req_variance:\n",
    "        correct_n = n\n",
    "        break\n",
    "print(correct_n)\n",
    "#100 not enough, increase to 1000 for truncatedSVD call.\n",
    "#1000 not enough either... increase to 1500\n",
    "#1500 not enough either, increase to 2200\n",
    "    "
   ]
  },
  {
   "cell_type": "code",
   "execution_count": 29,
   "metadata": {},
   "outputs": [],
   "source": [
    "#using found n_components perform svd on matrix for features = correct_n\n",
    "#used n_iter=5(also default val) b/c it is higher for sparse matrices that may\n",
    "#have slowly decaying spectrum\n",
    "tsvd = TruncatedSVD(n_components=correct_n, n_iter=5, random_state=ran_state)\n",
    "reduced_X = tsvd.fit_transform(mat)"
   ]
  },
  {
   "cell_type": "code",
   "execution_count": 30,
   "metadata": {},
   "outputs": [
    {
     "data": {
      "text/plain": [
       "(8580L, 1292L)"
      ]
     },
     "execution_count": 30,
     "metadata": {},
     "output_type": "execute_result"
    }
   ],
   "source": [
    "reduced_X.shape"
   ]
  },
  {
   "cell_type": "code",
   "execution_count": 31,
   "metadata": {},
   "outputs": [
    {
     "name": "stdout",
     "output_type": "stream",
     "text": [
      "8580\n",
      "8580\n"
     ]
    }
   ],
   "source": [
    "checker = 0\n",
    "for row in reduced_X:\n",
    "    checker +=1\n",
    "print(checker)\n",
    "print checker, "
   ]
  },
  {
   "cell_type": "code",
   "execution_count": 32,
   "metadata": {},
   "outputs": [
    {
     "data": {
      "text/plain": [
       "array([ 5.22421399, -0.16990847, -2.4107291 , ..., -0.2263277 ,\n",
       "        0.28811726,  0.24101835])"
      ]
     },
     "execution_count": 32,
     "metadata": {},
     "output_type": "execute_result"
    }
   ],
   "source": [
    "reduced_X[0, :]"
   ]
  },
  {
   "cell_type": "code",
   "execution_count": 33,
   "metadata": {},
   "outputs": [
    {
     "data": {
      "text/plain": [
       "8580"
      ]
     },
     "execution_count": 33,
     "metadata": {},
     "output_type": "execute_result"
    }
   ],
   "source": [
    "len(reduced_X)"
   ]
  },
  {
   "cell_type": "code",
   "execution_count": 34,
   "metadata": {},
   "outputs": [],
   "source": [
    "#not allowed to use distance matrix\n",
    "#test_dist_matrix = sp.spatial.distance.pdist(reduced_X, metric='euclidean')"
   ]
  },
  {
   "cell_type": "code",
   "execution_count": 35,
   "metadata": {},
   "outputs": [],
   "source": [
    "#not allowed to use distance matrix\n",
    "#test_dist_matrix.shape\n",
    "#shape = 36803910L, remove after"
   ]
  },
  {
   "cell_type": "code",
   "execution_count": 36,
   "metadata": {},
   "outputs": [
    {
     "data": {
      "text/plain": [
       "1292"
      ]
     },
     "execution_count": 36,
     "metadata": {},
     "output_type": "execute_result"
    }
   ],
   "source": [
    "len(reduced_X[0, :])"
   ]
  },
  {
   "cell_type": "code",
   "execution_count": 44,
   "metadata": {},
   "outputs": [],
   "source": [
    "#reindent after all things implemented..\n",
    "#what kind of input to take in? np matrix?\n",
    "#def DBScan(matrix, eps, minpts):\n",
    "#can use basic libraries (sqrt, min, max etc). Also, you’re allowed to use the\n",
    "#scipy library to do mathematical operations like the dot products\n",
    "#dot product (a dot b) = a1b1 +.. adbd.. = signal aibi\n",
    "\n",
    "def distance(x, y):\n",
    "    dist = np.sqrt(sp.dot(x,x) + sp.dot(y,y) - 2 * sp.dot(x,y))\n",
    "    return dist\n",
    "\n",
    "def within_eps(x, y, eps):\n",
    "    return distance(x,y) <= eps\n",
    "\n",
    "\n",
    "def core_points(mat, eps, minpts):\n",
    "    #use non-core-mat after for checking these to see if border pts\n",
    "    #if core then true else(border or noise check next fcn) false\n",
    "    testing = 0\n",
    "    core_point_index_list = np.zeros(len(mat), dtype=np.bool)\n",
    "    for i in range(len(mat)):\n",
    "        #reset for every outerloop so check inner loop for 0 -> minpts\n",
    "        current_min_pts = 0\n",
    "        #variable to check if core point was found, if not add to non core point list\n",
    "        if_nocore = False\n",
    "        for j in range(len(mat)):\n",
    "            #print \"i: \", i, \"j: \", j\n",
    "            \n",
    "            if i==j:\n",
    "                #print \"skip this i=j\", i\n",
    "                continue\n",
    "            \n",
    "            if current_min_pts == minpts-1:\n",
    "                if within_eps(mat[i], mat[j], eps):\n",
    "                    current_min_pts += 1\n",
    "                    core_point_index_list[i]=True\n",
    "                    #print \"core point\", i\n",
    "                    if_nocore = True\n",
    "                    break\n",
    "            \n",
    "            elif current_min_pts < minpts:\n",
    "                if within_eps(mat[i], mat[j], eps):\n",
    "                    current_min_pts += 1\n",
    "                    #print i, \"within eps of \", j\n",
    "            \n",
    "            else:\n",
    "                core_point_index_list[i]=True\n",
    "                #print \"core point\", i\n",
    "                if_nocore = True\n",
    "                break\n",
    "                \n",
    "            \n",
    "                \n",
    "        if not if_nocore:\n",
    "            core_point_index_list[i]=False\n",
    "            #print \"non core point\", i\n",
    "        \n",
    "    return core_point_index_list\n",
    "\n",
    "\n",
    "def border_points(mat, core_noncore_list):\n",
    "    core_border_list = np.zeros(len(mat), dtype=np.bool)\n",
    "    for j in range"
   ]
  },
  {
   "cell_type": "code",
   "execution_count": 45,
   "metadata": {},
   "outputs": [
    {
     "name": "stdout",
     "output_type": "stream",
     "text": [
      "8580\n"
     ]
    }
   ],
   "source": [
    "len(reduced_X)\n",
    "test_eps = 10\n",
    "test_min = 3\n",
    "reduced_X_core_list = core_points(reduced_X, test_eps, test_min)\n",
    "print(len(reduced_X_core_list))\n"
   ]
  },
  {
   "cell_type": "code",
   "execution_count": 46,
   "metadata": {},
   "outputs": [
    {
     "name": "stdout",
     "output_type": "stream",
     "text": [
      "[False False False ... False False False]\n"
     ]
    }
   ],
   "source": [
    "print(reduced_X_core_list)"
   ]
  },
  {
   "cell_type": "code",
   "execution_count": 47,
   "metadata": {},
   "outputs": [
    {
     "data": {
      "text/plain": [
       "1712"
      ]
     },
     "execution_count": 47,
     "metadata": {},
     "output_type": "execute_result"
    }
   ],
   "source": [
    "#finds the number of true, aka core points in a list\n",
    "sum(reduced_X_core_list)"
   ]
  },
  {
   "cell_type": "code",
   "execution_count": 48,
   "metadata": {},
   "outputs": [
    {
     "data": {
      "text/plain": [
       "numpy.ndarray"
      ]
     },
     "execution_count": 48,
     "metadata": {},
     "output_type": "execute_result"
    }
   ],
   "source": [
    "type(reduced_X_core_list)"
   ]
  },
  {
   "cell_type": "code",
   "execution_count": null,
   "metadata": {},
   "outputs": [],
   "source": []
  },
  {
   "cell_type": "code",
   "execution_count": 39,
   "metadata": {},
   "outputs": [
    {
     "name": "stdout",
     "output_type": "stream",
     "text": [
      "4\n",
      "[False, True, False, False]\n"
     ]
    }
   ],
   "source": [
    "#testing core_points\n",
    "test_matrix = [[2,4],[5,7],[9,10],[3,1]]\n",
    "test_eps = 7\n",
    "test_min = 3\n",
    "test_matrix_core_point_list = core_points(test_matrix, test_eps, test_min)\n",
    "\n",
    "print(len(test_matrix_core_point_list))\n",
    "print(test_matrix_core_point_list)"
   ]
  },
  {
   "cell_type": "code",
   "execution_count": 40,
   "metadata": {},
   "outputs": [
    {
     "name": "stdout",
     "output_type": "stream",
     "text": [
      "3.7416573867739413\n"
     ]
    }
   ],
   "source": [
    "#testing distance def...\n",
    "t1 = np.array([2,4,6])\n",
    "t2 = np.array([3,6,9])\n",
    "\n",
    "t_dist = distance(t1,t2)\n",
    "print(t_dist)"
   ]
  },
  {
   "cell_type": "code",
   "execution_count": 41,
   "metadata": {},
   "outputs": [
    {
     "name": "stdout",
     "output_type": "stream",
     "text": [
      "False\n"
     ]
    }
   ],
   "source": [
    "#testing within_eps\n",
    "t1 = np.array([2,4,6])\n",
    "t2 = np.array([3,6,9])\n",
    "\n",
    "t_eps_check = within_eps(t1,t2, 3.0)\n",
    "print(t_eps_check)\n",
    "#eucl dist is ~3.71 so > 3.0 not in eps"
   ]
  },
  {
   "cell_type": "code",
   "execution_count": 42,
   "metadata": {},
   "outputs": [
    {
     "name": "stdout",
     "output_type": "stream",
     "text": [
      "True\n"
     ]
    }
   ],
   "source": [
    "#testing within_eps\n",
    "t1 = np.array([2,4,6])\n",
    "t2 = np.array([3,6,9])\n",
    "\n",
    "t_eps_check = within_eps(t1,t2, 4.0)\n",
    "print(t_eps_check)\n",
    "#eucl dist is ~3.71 so < 4.0 not in eps"
   ]
  },
  {
   "cell_type": "code",
   "execution_count": null,
   "metadata": {},
   "outputs": [],
   "source": []
  }
 ],
 "metadata": {
  "kernelspec": {
   "display_name": "Python 2",
   "language": "python",
   "name": "python2"
  },
  "language_info": {
   "codemirror_mode": {
    "name": "ipython",
    "version": 2
   },
   "file_extension": ".py",
   "mimetype": "text/x-python",
   "name": "python",
   "nbconvert_exporter": "python",
   "pygments_lexer": "ipython2",
   "version": "2.7.14"
  }
 },
 "nbformat": 4,
 "nbformat_minor": 2
}
