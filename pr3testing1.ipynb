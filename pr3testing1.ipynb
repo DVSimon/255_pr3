{
 "cells": [
  {
   "cell_type": "code",
   "execution_count": 41,
   "metadata": {},
   "outputs": [],
   "source": [
    "import numpy as np\n",
    "import scipy as sp\n",
    "%matplotlib inline\n",
    "import matplotlib.pyplot as plt\n",
    "from collections import defaultdict\n",
    "from collections import Counter\n",
    "from scipy.sparse import csr_matrix"
   ]
  },
  {
   "cell_type": "code",
   "execution_count": 42,
   "metadata": {},
   "outputs": [],
   "source": [
    "with open(\"train.dat\", \"r\") as fh:\n",
    "    lines = fh.readlines()  "
   ]
  },
  {
   "cell_type": "code",
   "execution_count": 43,
   "metadata": {},
   "outputs": [
    {
     "data": {
      "text/plain": [
       "8580"
      ]
     },
     "execution_count": 43,
     "metadata": {},
     "output_type": "execute_result"
    }
   ],
   "source": [
    "len(lines)"
   ]
  },
  {
   "cell_type": "code",
   "execution_count": 44,
   "metadata": {},
   "outputs": [],
   "source": [
    "docs = [l.split() for l in lines]"
   ]
  },
  {
   "cell_type": "code",
   "execution_count": 45,
   "metadata": {},
   "outputs": [
    {
     "data": {
      "text/plain": [
       "8580"
      ]
     },
     "execution_count": 45,
     "metadata": {},
     "output_type": "execute_result"
    }
   ],
   "source": [
    "len(docs)"
   ]
  },
  {
   "cell_type": "code",
   "execution_count": 70,
   "metadata": {},
   "outputs": [],
   "source": [
    "#def csr_build(docs):\n",
    "    #build csr w/ our input data, format: index, value, index value.... etc\n",
    "    #should be even number of len for each line in doc(1 ind, 1 val)\n",
    "    #index is feature number, value is count of appearance in doc\n",
    "    #each line is a doc\n",
    "nrows = len(docs)\n",
    "nnz = 0\n",
    "biggest_feature_id = 0\n",
    "for d in docs:\n",
    "    \n",
    "    #divide by two because not all are words/indices, half are values\n",
    "    nnz += len(d) / 2\n",
    "    #need to only look at values so skip 1 each time..\n",
    "    for w in range(0, len(d), 2):\n",
    "        if(biggest_feature_id < int(d[w])):\n",
    "            biggest_feature_id = int(d[w])\n",
    "            \n",
    "ncols = biggest_feature_id\n",
    "#memory\n",
    "ind = np.zeros(nnz, dtype = np.int)\n",
    "val = np.zeros(nnz, dtype = np.double)\n",
    "ptr = np.zeros(nrows+1, dtype = np.int)\n",
    "n = 0\n",
    "i = 0\n",
    "\n",
    "for d in docs:\n",
    "    for w in range(0, len(d), 2):\n",
    "        ind[n] = int(d[w])\n",
    "        val[n] = int(d[w+1])\n",
    "        n += 1\n",
    "    ptr[i+1] = n\n",
    "    i += 1\n",
    "    \n",
    "mat = csr_matrix((val, ind, ptr), shape=(nrows, ncols), dtype=np.double)\n",
    "    \n",
    "\n",
    "        \n",
    "        \n",
    "        \n",
    "        \n",
    "    "
   ]
  },
  {
   "cell_type": "code",
   "execution_count": 71,
   "metadata": {},
   "outputs": [
    {
     "data": {
      "text/plain": [
       "(8580, 126355)"
      ]
     },
     "execution_count": 71,
     "metadata": {},
     "output_type": "execute_result"
    }
   ],
   "source": [
    "mat.shape"
   ]
  },
  {
   "cell_type": "code",
   "execution_count": null,
   "metadata": {},
   "outputs": [],
   "source": []
  }
 ],
 "metadata": {
  "kernelspec": {
   "display_name": "Python 2",
   "language": "python",
   "name": "python2"
  },
  "language_info": {
   "codemirror_mode": {
    "name": "ipython",
    "version": 2
   },
   "file_extension": ".py",
   "mimetype": "text/x-python",
   "name": "python",
   "nbconvert_exporter": "python",
   "pygments_lexer": "ipython2",
   "version": "2.7.14"
  }
 },
 "nbformat": 4,
 "nbformat_minor": 2
}
